{
 "cells": [
  {
   "cell_type": "markdown",
   "metadata": {},
   "source": [
    "Тренировка модели RandomForestClassifier указанной в примерах библиотеки на трафике,\n",
    "полученном в пункте 4. В качестве данных для тестирования использовать трафик из\n",
    "пунктов 1-3. Данный модуль должен быть реализован отдельно"
   ]
  },
  {
   "cell_type": "code",
   "execution_count": 2,
   "metadata": {},
   "outputs": [],
   "source": [
    "from nfstream import NFStreamer\n",
    "from sklearn.ensemble import RandomForestClassifier\n",
    "from sklearn import preprocessing\n",
    "import pickle"
   ]
  },
  {
   "cell_type": "code",
   "execution_count": 24,
   "metadata": {},
   "outputs": [],
   "source": [
    "nfs = NFStreamer(source='data/4/final.pcapng').to_pandas()\n",
    "#display(nfs)\n",
    "X_train = nfs[[\"bidirectional_bytes\", \n",
    "               \"src_port\", \"bidirectional_duration_ms\"]]\n",
    "X_train = preprocessing.normalize(X_train, axis=0)\n",
    "\n",
    "Y_train = nfs['application_name'].apply(lambda x: 1 if ('WireGuard' or 'IPsec.Azure' or 'OpenVPN.Azure') in x else 0)\n",
    "model = RandomForestClassifier(criterion='gini')\n",
    "model.fit(X_train, Y_train)\n",
    "\n",
    "with open(\"model.pkl\", \"wb\") as file:\n",
    "    pickle.dump(model, file)"
   ]
  },
  {
   "cell_type": "code",
   "execution_count": 22,
   "metadata": {},
   "outputs": [],
   "source": [
    "def print_result(pcap_file:str, name:str):\n",
    "    print(name)\n",
    "    nfs = NFStreamer(source=pcap_file).to_pandas()\n",
    "    X_test = nfs[[\"bidirectional_bytes\", \n",
    "               \"src_port\", \"bidirectional_duration_ms\"]]\n",
    "    X_test = preprocessing.normalize(X_train, axis=0)\n",
    "    Y_test = model.predict(X_test)\n",
    "\n",
    "    if 1 in Y_test:\n",
    "        print('     VPN used')\n",
    "    else:\n",
    "        print('     No VPN used')"
   ]
  },
  {
   "cell_type": "code",
   "execution_count": 25,
   "metadata": {},
   "outputs": [
    {
     "name": "stdout",
     "output_type": "stream",
     "text": [
      "1_wireguard\n",
      "     VPN used\n",
      "1_ipsec\n",
      "     VPN used\n",
      "1_openvpn\n",
      "     VPN used\n",
      "2_wireguard\n",
      "     VPN used\n",
      "2_ipsec\n",
      "     VPN used\n",
      "2_openvpn\n",
      "     VPN used\n",
      "3_novpn\n",
      "     VPN used\n"
     ]
    }
   ],
   "source": [
    "print_result('data/1/wireguard.pcapng', '1_wireguard')\n",
    "print_result('data/1/ipsec.pcapng', '1_ipsec')\n",
    "print_result('data/1/openvpn.pcapng', '1_openvpn')\n",
    "\n",
    "print_result('data/2/wireguard.pcapng', '2_wireguard')\n",
    "print_result('data/2/ipsec.pcapng', '2_ipsec')\n",
    "print_result('data/2/openvpn.pcapng', '2_openvpn')\n",
    "\n",
    "print_result('data/3/novpn.pcapng', '3_novpn')"
   ]
  }
 ],
 "metadata": {
  "interpreter": {
   "hash": "eb71496b086dd212f7169a77146fe9805e434a0413b95c140fc138c60369f7f2"
  },
  "kernelspec": {
   "display_name": "Python 3.10.4 64-bit (windows store)",
   "language": "python",
   "name": "python3"
  },
  "language_info": {
   "name": "python",
   "version": "3.10.4"
  },
  "orig_nbformat": 4
 },
 "nbformat": 4,
 "nbformat_minor": 2
}
