{
 "cells": [
  {
   "cell_type": "markdown",
   "metadata": {},
   "source": [
    "Тренировка модели RandomForestClassifier указанной в примерах библиотеки на трафике,\n",
    "полученном в пункте 4. В качестве данных для тестирования использовать трафик из\n",
    "пунктов 1-3. Данный модуль должен быть реализован отдельно"
   ]
  },
  {
   "cell_type": "code",
   "execution_count": 32,
   "metadata": {},
   "outputs": [],
   "source": [
    "from nfstream import NFStreamer\n",
    "from sklearn.ensemble import RandomForestClassifier\n",
    "import pickle\n",
    "\n",
    "nfs = NFStreamer(source='data/4/final.pcapng').to_pandas()\n",
    "X_train = nfs[[\"src_port\", \"bidirectional_packets\", \"bidirectional_bytes\", \"bidirectional_duration_ms\"]]\n",
    "Y_train = nfs['application_name'].map({'WireGuard':1, 'IPsec.Azure':2, 'OpenVPN.Azure':3}).fillna(0)\n",
    "\n",
    "model = RandomForestClassifier()\n",
    "model.fit(X_train, Y_train)\n",
    "\n",
    "with open(\"model.pkl\", \"wb\") as file:\n",
    "    pickle.dump(model, file)"
   ]
  },
  {
   "cell_type": "code",
   "execution_count": 42,
   "metadata": {},
   "outputs": [],
   "source": [
    "def print_result(pcap_file:str, name:str):\n",
    "    print(name)\n",
    "    nfs = NFStreamer(source=pcap_file).to_pandas()\n",
    "    X_test = nfs[[\"src_port\", \"bidirectional_packets\", \"bidirectional_bytes\", \"bidirectional_duration_ms\"]]\n",
    "    Y_test = model.predict(X_test)\n",
    "\n",
    "    if 1 in Y_test:\n",
    "        print('     WireGuard used')\n",
    "    if 2 in Y_test:\n",
    "        print('     IPSec used')\n",
    "    if 1 in Y_test:\n",
    "        print('     OpenVPN used')\n",
    "\n",
    "    if 1 not in Y_test and 2 not in Y_test and 3 not in Y_test:\n",
    "        print('     No VPN used')"
   ]
  },
  {
   "cell_type": "code",
   "execution_count": 43,
   "metadata": {},
   "outputs": [
    {
     "name": "stdout",
     "output_type": "stream",
     "text": [
      "1_wireguard\n",
      "     IPSec used\n",
      "1_ipsec\n",
      "     No VPN used\n",
      "1_openvpn\n",
      "     No VPN used\n",
      "2_wireguard\n",
      "     WireGuard used\n",
      "     OpenVPN used\n",
      "2_ipsec\n",
      "     IPSec used\n",
      "2_openvpn\n",
      "     No VPN used\n",
      "3_novpn\n",
      "     WireGuard used\n",
      "     OpenVPN used\n"
     ]
    }
   ],
   "source": [
    "print_result('data/1/wireguard.pcapng', '1_wireguard')\n",
    "print_result('data/1/ipsec.pcapng', '1_ipsec')\n",
    "print_result('data/1/openvpn.pcapng', '1_openvpn')\n",
    "\n",
    "print_result('data/2/wireguard.pcapng', '2_wireguard')\n",
    "print_result('data/2/ipsec.pcapng', '2_ipsec')\n",
    "print_result('data/2/openvpn.pcapng', '2_openvpn')\n",
    "\n",
    "print_result('data/3/novpn.pcapng', '3_novpn')"
   ]
  }
 ],
 "metadata": {
  "language_info": {
   "name": "python"
  },
  "orig_nbformat": 4
 },
 "nbformat": 4,
 "nbformat_minor": 2
}
